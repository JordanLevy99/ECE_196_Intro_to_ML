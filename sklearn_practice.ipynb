{
 "cells": [
  {
   "cell_type": "markdown",
   "metadata": {},
   "source": [
    "In sklearn, different machine learning models are represented as classes.  Below, we see a LogisticRegression classifier imported to use at our disposal."
   ]
  },
  {
   "cell_type": "code",
   "execution_count": 1,
   "metadata": {},
   "outputs": [],
   "source": [
    "import numpy as np\n",
    "import sklearn.datasets # imports 'classical' machine learning datasets\n",
    "from sklearn.linear_model import LogisticRegression # imports LogisticRegression class\n",
    "from sklearn.model_selection import train_test_split # imports the function train_test_split,\n",
    "                                                    # which allows us to easily split our X and y into training and testing sets"
   ]
  },
  {
   "cell_type": "markdown",
   "metadata": {},
   "source": [
    "The [iris dataset](https://archive.ics.uci.edu/ml/datasets/iris) is built into sklearn and can be loaded with the function `sklearn.datasets.load_iris()`.  However, `load_iris()` returns a dictionary, which contains both our input, `X`, and our target output, `y`, with the keys `'data'` and `'target'`, respectively."
   ]
  },
  {
   "cell_type": "code",
   "execution_count": 2,
   "metadata": {},
   "outputs": [],
   "source": [
    "iris_data = sklearn.datasets.load_iris()  # loads in the Iris dataset through sklearn.datasets\n",
    "X = iris_data['data']  # gets the input values, our input X, from iris_data\n",
    "y = iris_data['target'] # gets the target values, our output y, from iris_data"
   ]
  },
  {
   "cell_type": "markdown",
   "metadata": {},
   "source": [
    "Note in the output of the cell below that X has 150 rows and 4 columns, while y is a 1D array with 150 values."
   ]
  },
  {
   "cell_type": "code",
   "execution_count": 3,
   "metadata": {},
   "outputs": [
    {
     "name": "stdout",
     "output_type": "stream",
     "text": [
      "<class 'sklearn.utils.Bunch'>\n",
      "(150, 4)\n",
      "(150,)\n"
     ]
    }
   ],
   "source": [
    "print(type(iris_data)) # prints the type of iris_data, which says 'sklearn.utils.Bunch', \n",
    "                       # but is very similar to a Python dictionary\n",
    "print(X.shape) # prints the shape of X\n",
    "print(y.shape) # prints the shape of y"
   ]
  },
  {
   "cell_type": "markdown",
   "metadata": {},
   "source": [
    "Before training our model, we will split our model into a training set and testing set, so that we can check the accuracy of our model on unseen data."
   ]
  },
  {
   "cell_type": "code",
   "execution_count": 4,
   "metadata": {},
   "outputs": [],
   "source": [
    "X_train, X_test, y_train, y_test = train_test_split(X, y, test_size=0.3) # splits our X and y into train and test sets,\n",
    "                                                                         # with the testing data being 30% of the size \n",
    "                                                                         # of the training set"
   ]
  },
  {
   "cell_type": "code",
   "execution_count": 5,
   "metadata": {},
   "outputs": [],
   "source": [
    "clf = LogisticRegression()  # initializes a LogisticRegression class,\n",
    "                           # which will allow us to train and test a Logistic Regression model"
   ]
  },
  {
   "cell_type": "markdown",
   "metadata": {},
   "source": [
    "`clf.fit(X, y)` will train our LogisticRegression classifier to our training dataset.  \n",
    "In other words, the `fit` function updates our LogisticRegression object with the set of parameters W and bias vector B needed to make predictions."
   ]
  },
  {
   "cell_type": "code",
   "execution_count": 6,
   "metadata": {},
   "outputs": [
    {
     "data": {
      "text/plain": [
       "LogisticRegression()"
      ]
     },
     "execution_count": 6,
     "metadata": {},
     "output_type": "execute_result"
    }
   ],
   "source": [
    "clf.fit(X_train, y_train) # fits or trains our LogisticRegression model on our training data"
   ]
  },
  {
   "cell_type": "markdown",
   "metadata": {},
   "source": [
    "Once we fit our model, we have a set of weights and biases that we then apply to our test data to measure the accuracy of our model."
   ]
  },
  {
   "cell_type": "code",
   "execution_count": 7,
   "metadata": {},
   "outputs": [
    {
     "data": {
      "text/plain": [
       "array([0, 2, 1, 2, 2])"
      ]
     },
     "execution_count": 7,
     "metadata": {},
     "output_type": "execute_result"
    }
   ],
   "source": [
    "y_pred = clf.predict(X_test)  # predicts the y_test values based on our trained model and given inputs X_test\n",
    "y_pred[:5] # outputs our first 5 predictions (our output is either class 0, 1, or 2)"
   ]
  },
  {
   "cell_type": "markdown",
   "metadata": {},
   "source": [
    "To evaluate our model's accuracy, we will see how many values from `y_pred` are equal to `y_test`, divided by the length of either array."
   ]
  },
  {
   "cell_type": "code",
   "execution_count": 8,
   "metadata": {},
   "outputs": [
    {
     "data": {
      "text/plain": [
       "0.9777777777777777"
      ]
     },
     "execution_count": 8,
     "metadata": {},
     "output_type": "execute_result"
    }
   ],
   "source": [
    "sum(y_pred == y_test) / len(y_pred)  # gets the accuracy of our model by summing all the times y_pred equals y_test \n",
    "                                     # divided by the length of y_pred"
   ]
  }
 ],
 "metadata": {
  "kernelspec": {
   "display_name": "Python 3",
   "language": "python",
   "name": "python3"
  },
  "language_info": {
   "codemirror_mode": {
    "name": "ipython",
    "version": 3
   },
   "file_extension": ".py",
   "mimetype": "text/x-python",
   "name": "python",
   "nbconvert_exporter": "python",
   "pygments_lexer": "ipython3",
   "version": "3.8.5"
  }
 },
 "nbformat": 4,
 "nbformat_minor": 4
}
