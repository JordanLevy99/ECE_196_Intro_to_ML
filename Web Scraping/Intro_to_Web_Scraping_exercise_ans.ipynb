{
 "cells": [
  {
   "cell_type": "markdown",
   "metadata": {},
   "source": [
    "## ECE 196 Introduction to Web Scraping"
   ]
  },
  {
   "cell_type": "markdown",
   "metadata": {},
   "source": [
    "**Note: Whenever you see '...', replace with a line of code**"
   ]
  },
  {
   "cell_type": "code",
   "execution_count": 1,
   "metadata": {},
   "outputs": [],
   "source": [
    "from bs4 import BeautifulSoup\n",
    "import requests\n",
    "import time"
   ]
  },
  {
   "cell_type": "code",
   "execution_count": 3,
   "metadata": {},
   "outputs": [],
   "source": [
    "base_url = 'http://example.webscraping.com/'\n",
    "content = requests.get(base_url).content\n",
    "soup = BeautifulSoup(content)"
   ]
  },
  {
   "cell_type": "markdown",
   "metadata": {},
   "source": [
    "**0) Check the robots.txt of example.webscraping.com**\n",
    "\n",
    "Add robots.txt to the end of the base_url and read what is there.\n",
    "\n",
    "Note the 'Crawl-delay' on the robots.txt.  'Craw-delay' is the amount of seconds the user is expected to wait before sending another request, if scraping multiple webpages from the website at once.  We can implement this with the time.sleep(seconds) function."
   ]
  },
  {
   "cell_type": "markdown",
   "metadata": {},
   "source": [
    "**1) Get the names of all the countries on the first page**\n",
    "\n",
    "Hint: A tag starts with &lt;tag> and ends with &lt;/tag>.\n",
    "\n",
    "Hint: Use inspect element to find the html of a page.\n",
    "\n",
    "Hint: Use soup.find() and .find_all()\n",
    "\n",
    "Hint: Find the tag &lt;div id=\"results\"> under the &lt;section id=\"main\" class=\"main row\"> tag in BeautifulSoup."
   ]
  },
  {
   "cell_type": "markdown",
   "metadata": {},
   "source": [
    "Output: Return a list of names (all strings)"
   ]
  },
  {
   "cell_type": "code",
   "execution_count": 6,
   "metadata": {
    "scrolled": true
   },
   "outputs": [
    {
     "data": {
      "text/plain": [
       "['Afghanistan',\n",
       " 'Aland Islands',\n",
       " 'Albania',\n",
       " 'Algeria',\n",
       " 'American Samoa',\n",
       " 'Andorra',\n",
       " 'Angola',\n",
       " 'Anguilla',\n",
       " 'Antarctica',\n",
       " 'Antigua and Barbuda']"
      ]
     },
     "execution_count": 6,
     "metadata": {},
     "output_type": "execute_result"
    }
   ],
   "source": [
    "### Note: The skeleton code is just a suggestion, feel free to write the code however you wish\n",
    "country_links = soup.find_all('td') # find a list of <td> tags for each of the countries on the page\n",
    "country_lst = [country.text.strip() for country in country_links]  # Get the .text attribute of <td> tags for each <td> tag in country_links\n",
    "country_lst"
   ]
  },
  {
   "cell_type": "markdown",
   "metadata": {},
   "source": [
    "**2) Get the size of Albania in square kilometers**\n",
    "\n",
    "Hint: use soup.find_all(tag, {attr_name:value}) to isolate lines of HTML with that tag and attribute."
   ]
  },
  {
   "cell_type": "markdown",
   "metadata": {},
   "source": [
    "Output: Return a string, example: 'X square kilometers' where X is the number of square kilometers of Albania."
   ]
  },
  {
   "cell_type": "code",
   "execution_count": 7,
   "metadata": {},
   "outputs": [],
   "source": [
    "url = 'http://example.webscraping.com/places/default/view/Albania-3'\n",
    "content = requests.get(url).content\n",
    "soup = BeautifulSoup(content)"
   ]
  },
  {
   "cell_type": "code",
   "execution_count": 13,
   "metadata": {},
   "outputs": [
    {
     "data": {
      "text/plain": [
       "'28,748 square kilometres'"
      ]
     },
     "execution_count": 13,
     "metadata": {},
     "output_type": "execute_result"
    }
   ],
   "source": [
    "size = soup.find_all('td', {'class':'w2p_fw'})[1].text # Find the tag that has the size, get the .text attribute of this tag\n",
    "size"
   ]
  },
  {
   "cell_type": "markdown",
   "metadata": {},
   "source": [
    "**3) Find the population per square kilometers of China**\n",
    "\n",
    "Given the url listing all countries in Asia, find the population per square kilometer of China. \n",
    "\n",
    "Hint: You will need to find the url for China in the webpage, then use the requests module to get the content of that page.\n",
    "\n",
    "Hint: String methods like .split(str), .strip(str), and .replace(str) may be helpful."
   ]
  },
  {
   "cell_type": "markdown",
   "metadata": {},
   "source": [
    "Output: Return a float of population / square kilometer."
   ]
  },
  {
   "cell_type": "code",
   "execution_count": 31,
   "metadata": {},
   "outputs": [],
   "source": [
    "url = 'http://example.webscraping.com/places/default/view/China-47'\n",
    "# Based on the last two problems, fill in the code for 'content', 'soup', and 'country_links'\n",
    "content = requests.get(url).text  # Using the requests module, get the content of the webpage at the url listed above\n",
    "soup = BeautifulSoup(content) # Initialize a BeautifulSoup object accordingly\n",
    "\n",
    "\n",
    "size =  soup.find_all('td', {'class':'w2p_fw'})[1].text # Get the size of China in square kilometers\n",
    "\n",
    "population = soup.find_all('td', {'class':'w2p_fw'})[2].text # Get the population of China\n"
   ]
  },
  {
   "cell_type": "code",
   "execution_count": 32,
   "metadata": {},
   "outputs": [],
   "source": [
    "size = size.strip(' square kilometres').replace(',', '')\n",
    "population = population.replace(',', '')"
   ]
  },
  {
   "cell_type": "code",
   "execution_count": 34,
   "metadata": {},
   "outputs": [
    {
     "data": {
      "text/plain": [
       "138.5901368766776"
      ]
     },
     "execution_count": 34,
     "metadata": {},
     "output_type": "execute_result"
    }
   ],
   "source": [
    "size = int(size)  # Extract the number itself, with no commas or extraneous characters\n",
    "population = int(population)  # Extract the number itself, with no commas or extraneous characters\n",
    "\n",
    "population/size  # Output the float of population per square kilometer"
   ]
  },
  {
   "cell_type": "code",
   "execution_count": null,
   "metadata": {},
   "outputs": [],
   "source": []
  }
 ],
 "metadata": {
  "kernelspec": {
   "display_name": "Python 3",
   "language": "python",
   "name": "python3"
  },
  "language_info": {
   "codemirror_mode": {
    "name": "ipython",
    "version": 3
   },
   "file_extension": ".py",
   "mimetype": "text/x-python",
   "name": "python",
   "nbconvert_exporter": "python",
   "pygments_lexer": "ipython3",
   "version": "3.8.5"
  }
 },
 "nbformat": 4,
 "nbformat_minor": 2
}
