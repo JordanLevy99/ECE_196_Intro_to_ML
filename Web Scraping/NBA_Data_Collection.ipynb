{
 "cells": [
  {
   "cell_type": "markdown",
   "metadata": {},
   "source": [
    "## ECE 196: NBA Data Collection"
   ]
  },
  {
   "cell_type": "code",
   "execution_count": 4,
   "metadata": {},
   "outputs": [],
   "source": [
    "from selenium import webdriver\n",
    "from selenium.webdriver.common.keys import Keys\n",
    "from bs4 import BeautifulSoup\n",
    "import numpy as np\n",
    "import pandas as pd\n",
    "import os"
   ]
  },
  {
   "cell_type": "code",
   "execution_count": 5,
   "metadata": {},
   "outputs": [],
   "source": [
    "wd = os.getcwd()"
   ]
  },
  {
   "cell_type": "code",
   "execution_count": 8,
   "metadata": {},
   "outputs": [],
   "source": [
    "year1 = 18\n",
    "year2 = 19\n",
    "\n",
    "pd.set_option('display.max_columns', 500)\n",
    "\n",
    "base_url = ('https://stats.nba.com/teams/boxscores/?Season=20{}-{}&SeasonType=Regular%20Season')\n",
    "\n",
    "\n",
    "### Download Chrome webdriver here: https://sites.google.com/a/chromium.org/chromedriver/downloads\n",
    "### Unzip the file, keep it in the same folder you downloaded it in\n",
    "### Change the following line with the path to your chromedriver\n",
    "driver = webdriver.Chrome(f'{wd}/chromedriver') # change to your path"
   ]
  },
  {
   "cell_type": "code",
   "execution_count": 12,
   "metadata": {},
   "outputs": [],
   "source": [
    "local_filename = 'NBA_Team_Data_{}-{}'"
   ]
  },
  {
   "cell_type": "code",
   "execution_count": 10,
   "metadata": {},
   "outputs": [
    {
     "name": "stdout",
     "output_type": "stream",
     "text": [
      "Got url\n"
     ]
    }
   ],
   "source": [
    "driver.get(base_url.format(year1,year2))\n",
    "print('Got url')"
   ]
  },
  {
   "cell_type": "code",
   "execution_count": 11,
   "metadata": {},
   "outputs": [],
   "source": [
    "# Finds page selector, and clicks on 'All' (this can be done manually if needed)\n",
    "page_selector = driver.find_elements_by_tag_name('select')[2]\n",
    "page_selector.click()\n",
    "page_selector.find_elements_by_tag_name(\"option\")[0].click()"
   ]
  },
  {
   "cell_type": "code",
   "execution_count": null,
   "metadata": {},
   "outputs": [],
   "source": [
    "# Takes about 30 seconds to run\n",
    "%time soup = BeautifulSoup(driver.page_source, 'html5lib')"
   ]
  },
  {
   "cell_type": "code",
   "execution_count": null,
   "metadata": {},
   "outputs": [],
   "source": [
    "nba_table = soup.find('div', {'class':'nba-stat-table'})"
   ]
  },
  {
   "cell_type": "code",
   "execution_count": null,
   "metadata": {},
   "outputs": [],
   "source": [
    "type(nba_table)"
   ]
  },
  {
   "cell_type": "code",
   "execution_count": null,
   "metadata": {},
   "outputs": [],
   "source": [
    "team_columns = []\n",
    "for row in nba_table.find('thead').find_all('th'):\n",
    "    #print(row.text)\n",
    "    team_columns.append(row.text)\n",
    "team_columns"
   ]
  },
  {
   "cell_type": "code",
   "execution_count": null,
   "metadata": {},
   "outputs": [],
   "source": [
    "for row in range(len(team_columns)):\n",
    "    team_columns[row] = team_columns[row].strip(' ').strip('\\n').strip(' ').replace('\\xa0', ' ')\n",
    "team_columns"
   ]
  },
  {
   "cell_type": "code",
   "execution_count": null,
   "metadata": {
    "scrolled": true
   },
   "outputs": [],
   "source": [
    "%%time \n",
    "all_rows = nba_table.find('tbody').find_all('tr')\n",
    "team_data = []\n",
    "for row in all_rows:\n",
    "    row_values = []\n",
    "    for val in row.find_all('td'):\n",
    "        row_values.append(val.text.strip(' ').strip('\\n').strip(' '))\n",
    "    team_data.append(row_values)\n",
    "team_data[:2]"
   ]
  },
  {
   "cell_type": "code",
   "execution_count": null,
   "metadata": {},
   "outputs": [],
   "source": [
    "team_data_df = pd.DataFrame(data=team_data, columns=team_columns)\n",
    "team_data_df.head()"
   ]
  },
  {
   "cell_type": "markdown",
   "metadata": {},
   "source": [
    "We drop the +/- column to not give away who wins."
   ]
  },
  {
   "cell_type": "code",
   "execution_count": null,
   "metadata": {},
   "outputs": [],
   "source": [
    "team_data_df = team_data_df.drop('+/-', axis=1)"
   ]
  },
  {
   "cell_type": "code",
   "execution_count": null,
   "metadata": {},
   "outputs": [],
   "source": [
    "team_data_df.to_csv('NBA_Team_Data_{}-{}.csv'.format(year1, year2), index=False)"
   ]
  }
 ],
 "metadata": {
  "kernelspec": {
   "display_name": "Python 3",
   "language": "python",
   "name": "python3"
  },
  "language_info": {
   "codemirror_mode": {
    "name": "ipython",
    "version": 3
   },
   "file_extension": ".py",
   "mimetype": "text/x-python",
   "name": "python",
   "nbconvert_exporter": "python",
   "pygments_lexer": "ipython3",
   "version": "3.8.5"
  }
 },
 "nbformat": 4,
 "nbformat_minor": 2
}
