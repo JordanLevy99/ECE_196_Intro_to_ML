{
 "cells": [
  {
   "cell_type": "markdown",
   "metadata": {},
   "source": [
    "## ECE 196: NBA Win Classification"
   ]
  },
  {
   "cell_type": "markdown",
   "metadata": {},
   "source": [
    "**Note: Whenever you see '...', replace with a line of code**"
   ]
  },
  {
   "cell_type": "markdown",
   "metadata": {},
   "source": [
    "**Introduction**\n",
    "\n",
    "What are the keys to success in a basketball game? We will attempt to answer this question in this project demo, by correctly classifying NBA games as a win or a loss based on the box scores of individual teams."
   ]
  },
  {
   "cell_type": "code",
   "execution_count": 1,
   "metadata": {},
   "outputs": [],
   "source": [
    "import pandas as pd\n",
    "import numpy as np\n",
    "from sklearn.model_selection import train_test_split\n",
    "from sklearn.decomposition import PCA\n",
    "from sklearn.neighbors import KNeighborsClassifier\n",
    "from sklearn.linear_model import LogisticRegression\n",
    "from sklearn.svm import SVC\n",
    "from sklearn.metrics import balanced_accuracy_score\n",
    "import matplotlib.pyplot as plt"
   ]
  },
  {
   "cell_type": "code",
   "execution_count": 4,
   "metadata": {},
   "outputs": [],
   "source": [
    "df = pd.read_csv('NBA_Team_Data_18-19.csv')"
   ]
  },
  {
   "cell_type": "code",
   "execution_count": 5,
   "metadata": {
    "scrolled": true
   },
   "outputs": [
    {
     "data": {
      "text/html": [
       "<div>\n",
       "<style scoped>\n",
       "    .dataframe tbody tr th:only-of-type {\n",
       "        vertical-align: middle;\n",
       "    }\n",
       "\n",
       "    .dataframe tbody tr th {\n",
       "        vertical-align: top;\n",
       "    }\n",
       "\n",
       "    .dataframe thead th {\n",
       "        text-align: right;\n",
       "    }\n",
       "</style>\n",
       "<table border=\"1\" class=\"dataframe\">\n",
       "  <thead>\n",
       "    <tr style=\"text-align: right;\">\n",
       "      <th></th>\n",
       "      <th>Team</th>\n",
       "      <th>Match Up</th>\n",
       "      <th>Game Date</th>\n",
       "      <th>Season</th>\n",
       "      <th>W/L</th>\n",
       "      <th>MIN</th>\n",
       "      <th>PTS</th>\n",
       "      <th>FGM</th>\n",
       "      <th>FGA</th>\n",
       "      <th>FG%</th>\n",
       "      <th>...</th>\n",
       "      <th>FTA</th>\n",
       "      <th>FT%</th>\n",
       "      <th>OREB</th>\n",
       "      <th>DREB</th>\n",
       "      <th>REB</th>\n",
       "      <th>AST</th>\n",
       "      <th>STL</th>\n",
       "      <th>BLK</th>\n",
       "      <th>TOV</th>\n",
       "      <th>PF</th>\n",
       "    </tr>\n",
       "  </thead>\n",
       "  <tbody>\n",
       "    <tr>\n",
       "      <td>0</td>\n",
       "      <td>GSW</td>\n",
       "      <td>GSW @ MEM</td>\n",
       "      <td>04/10/2019</td>\n",
       "      <td>NaN</td>\n",
       "      <td>L</td>\n",
       "      <td>240</td>\n",
       "      <td>117</td>\n",
       "      <td>46</td>\n",
       "      <td>92</td>\n",
       "      <td>50.0</td>\n",
       "      <td>...</td>\n",
       "      <td>14</td>\n",
       "      <td>85.7</td>\n",
       "      <td>9</td>\n",
       "      <td>30</td>\n",
       "      <td>39</td>\n",
       "      <td>32</td>\n",
       "      <td>3</td>\n",
       "      <td>5</td>\n",
       "      <td>14</td>\n",
       "      <td>17</td>\n",
       "    </tr>\n",
       "    <tr>\n",
       "      <td>1</td>\n",
       "      <td>MEM</td>\n",
       "      <td>MEM vs. GSW</td>\n",
       "      <td>04/10/2019</td>\n",
       "      <td>NaN</td>\n",
       "      <td>W</td>\n",
       "      <td>240</td>\n",
       "      <td>132</td>\n",
       "      <td>48</td>\n",
       "      <td>98</td>\n",
       "      <td>49.0</td>\n",
       "      <td>...</td>\n",
       "      <td>18</td>\n",
       "      <td>83.3</td>\n",
       "      <td>15</td>\n",
       "      <td>34</td>\n",
       "      <td>49</td>\n",
       "      <td>25</td>\n",
       "      <td>9</td>\n",
       "      <td>0</td>\n",
       "      <td>11</td>\n",
       "      <td>18</td>\n",
       "    </tr>\n",
       "    <tr>\n",
       "      <td>2</td>\n",
       "      <td>ORL</td>\n",
       "      <td>ORL @ CHA</td>\n",
       "      <td>04/10/2019</td>\n",
       "      <td>NaN</td>\n",
       "      <td>W</td>\n",
       "      <td>240</td>\n",
       "      <td>122</td>\n",
       "      <td>48</td>\n",
       "      <td>88</td>\n",
       "      <td>54.5</td>\n",
       "      <td>...</td>\n",
       "      <td>20</td>\n",
       "      <td>75.0</td>\n",
       "      <td>9</td>\n",
       "      <td>30</td>\n",
       "      <td>39</td>\n",
       "      <td>24</td>\n",
       "      <td>5</td>\n",
       "      <td>2</td>\n",
       "      <td>6</td>\n",
       "      <td>19</td>\n",
       "    </tr>\n",
       "    <tr>\n",
       "      <td>3</td>\n",
       "      <td>CHA</td>\n",
       "      <td>CHA vs. ORL</td>\n",
       "      <td>04/10/2019</td>\n",
       "      <td>NaN</td>\n",
       "      <td>L</td>\n",
       "      <td>240</td>\n",
       "      <td>114</td>\n",
       "      <td>41</td>\n",
       "      <td>78</td>\n",
       "      <td>52.6</td>\n",
       "      <td>...</td>\n",
       "      <td>27</td>\n",
       "      <td>88.9</td>\n",
       "      <td>4</td>\n",
       "      <td>28</td>\n",
       "      <td>32</td>\n",
       "      <td>21</td>\n",
       "      <td>3</td>\n",
       "      <td>4</td>\n",
       "      <td>8</td>\n",
       "      <td>14</td>\n",
       "    </tr>\n",
       "    <tr>\n",
       "      <td>4</td>\n",
       "      <td>MIN</td>\n",
       "      <td>MIN @ DEN</td>\n",
       "      <td>04/10/2019</td>\n",
       "      <td>NaN</td>\n",
       "      <td>L</td>\n",
       "      <td>240</td>\n",
       "      <td>95</td>\n",
       "      <td>39</td>\n",
       "      <td>91</td>\n",
       "      <td>42.9</td>\n",
       "      <td>...</td>\n",
       "      <td>6</td>\n",
       "      <td>66.7</td>\n",
       "      <td>7</td>\n",
       "      <td>34</td>\n",
       "      <td>41</td>\n",
       "      <td>24</td>\n",
       "      <td>6</td>\n",
       "      <td>0</td>\n",
       "      <td>10</td>\n",
       "      <td>22</td>\n",
       "    </tr>\n",
       "  </tbody>\n",
       "</table>\n",
       "<p>5 rows × 24 columns</p>\n",
       "</div>"
      ],
      "text/plain": [
       "  Team     Match Up   Game Date  Season W/L  MIN  PTS  FGM  FGA   FG%  ...  \\\n",
       "0  GSW    GSW @ MEM  04/10/2019     NaN   L  240  117   46   92  50.0  ...   \n",
       "1  MEM  MEM vs. GSW  04/10/2019     NaN   W  240  132   48   98  49.0  ...   \n",
       "2  ORL    ORL @ CHA  04/10/2019     NaN   W  240  122   48   88  54.5  ...   \n",
       "3  CHA  CHA vs. ORL  04/10/2019     NaN   L  240  114   41   78  52.6  ...   \n",
       "4  MIN    MIN @ DEN  04/10/2019     NaN   L  240   95   39   91  42.9  ...   \n",
       "\n",
       "   FTA   FT%  OREB  DREB  REB  AST  STL  BLK  TOV  PF  \n",
       "0   14  85.7     9    30   39   32    3    5   14  17  \n",
       "1   18  83.3    15    34   49   25    9    0   11  18  \n",
       "2   20  75.0     9    30   39   24    5    2    6  19  \n",
       "3   27  88.9     4    28   32   21    3    4    8  14  \n",
       "4    6  66.7     7    34   41   24    6    0   10  22  \n",
       "\n",
       "[5 rows x 24 columns]"
      ]
     },
     "execution_count": 5,
     "metadata": {},
     "output_type": "execute_result"
    }
   ],
   "source": [
    "df.head()"
   ]
  },
  {
   "cell_type": "markdown",
   "metadata": {},
   "source": [
    "**Data Cleaning**"
   ]
  },
  {
   "cell_type": "markdown",
   "metadata": {},
   "source": [
    "As you can see above, our dataset is fairly clean in that our data is recorded with a consistent format.  Lets first check for any null values in our data. This is important because we cannot generate a model with null values.\n",
    "\n",
    "Hint: use .isnull() and .sum() to find the sum of null values in a given dataframe."
   ]
  },
  {
   "cell_type": "code",
   "execution_count": 15,
   "metadata": {},
   "outputs": [
    {
     "data": {
      "text/plain": [
       "Team         0\n",
       "Match Up     0\n",
       "Game Date    0\n",
       "W/L          0\n",
       "MIN          0\n",
       "PTS          0\n",
       "FGM          0\n",
       "FGA          0\n",
       "FG%          0\n",
       "3PM          0\n",
       "3PA          0\n",
       "3P%          0\n",
       "FTM          0\n",
       "FTA          0\n",
       "FT%          0\n",
       "OREB         0\n",
       "DREB         0\n",
       "REB          0\n",
       "AST          0\n",
       "STL          0\n",
       "BLK          0\n",
       "TOV          0\n",
       "PF           0\n",
       "dtype: int64"
      ]
     },
     "execution_count": 15,
     "metadata": {},
     "output_type": "execute_result"
    }
   ],
   "source": [
    "# Output a series with the column names of our dataframe and the sum of their null values\n",
    "df.isnull().sum()"
   ]
  },
  {
   "cell_type": "markdown",
   "metadata": {},
   "source": [
    "The 'Season' column is the only column with null values.  All values are null, so we will drop the column."
   ]
  },
  {
   "cell_type": "code",
   "execution_count": 8,
   "metadata": {},
   "outputs": [],
   "source": [
    "df = df.drop('Season', axis=1)"
   ]
  },
  {
   "cell_type": "code",
   "execution_count": 11,
   "metadata": {},
   "outputs": [
    {
     "data": {
      "text/html": [
       "<div>\n",
       "<style scoped>\n",
       "    .dataframe tbody tr th:only-of-type {\n",
       "        vertical-align: middle;\n",
       "    }\n",
       "\n",
       "    .dataframe tbody tr th {\n",
       "        vertical-align: top;\n",
       "    }\n",
       "\n",
       "    .dataframe thead th {\n",
       "        text-align: right;\n",
       "    }\n",
       "</style>\n",
       "<table border=\"1\" class=\"dataframe\">\n",
       "  <thead>\n",
       "    <tr style=\"text-align: right;\">\n",
       "      <th></th>\n",
       "      <th>Team</th>\n",
       "      <th>Match Up</th>\n",
       "      <th>Game Date</th>\n",
       "      <th>W/L</th>\n",
       "      <th>MIN</th>\n",
       "      <th>PTS</th>\n",
       "      <th>FGM</th>\n",
       "      <th>FGA</th>\n",
       "      <th>FG%</th>\n",
       "      <th>3PM</th>\n",
       "      <th>...</th>\n",
       "      <th>FTA</th>\n",
       "      <th>FT%</th>\n",
       "      <th>OREB</th>\n",
       "      <th>DREB</th>\n",
       "      <th>REB</th>\n",
       "      <th>AST</th>\n",
       "      <th>STL</th>\n",
       "      <th>BLK</th>\n",
       "      <th>TOV</th>\n",
       "      <th>PF</th>\n",
       "    </tr>\n",
       "  </thead>\n",
       "  <tbody>\n",
       "    <tr>\n",
       "      <td>0</td>\n",
       "      <td>GSW</td>\n",
       "      <td>GSW @ MEM</td>\n",
       "      <td>04/10/2019</td>\n",
       "      <td>L</td>\n",
       "      <td>240</td>\n",
       "      <td>117</td>\n",
       "      <td>46</td>\n",
       "      <td>92</td>\n",
       "      <td>50.0</td>\n",
       "      <td>13</td>\n",
       "      <td>...</td>\n",
       "      <td>14</td>\n",
       "      <td>85.7</td>\n",
       "      <td>9</td>\n",
       "      <td>30</td>\n",
       "      <td>39</td>\n",
       "      <td>32</td>\n",
       "      <td>3</td>\n",
       "      <td>5</td>\n",
       "      <td>14</td>\n",
       "      <td>17</td>\n",
       "    </tr>\n",
       "    <tr>\n",
       "      <td>1</td>\n",
       "      <td>MEM</td>\n",
       "      <td>MEM vs. GSW</td>\n",
       "      <td>04/10/2019</td>\n",
       "      <td>W</td>\n",
       "      <td>240</td>\n",
       "      <td>132</td>\n",
       "      <td>48</td>\n",
       "      <td>98</td>\n",
       "      <td>49.0</td>\n",
       "      <td>21</td>\n",
       "      <td>...</td>\n",
       "      <td>18</td>\n",
       "      <td>83.3</td>\n",
       "      <td>15</td>\n",
       "      <td>34</td>\n",
       "      <td>49</td>\n",
       "      <td>25</td>\n",
       "      <td>9</td>\n",
       "      <td>0</td>\n",
       "      <td>11</td>\n",
       "      <td>18</td>\n",
       "    </tr>\n",
       "    <tr>\n",
       "      <td>2</td>\n",
       "      <td>ORL</td>\n",
       "      <td>ORL @ CHA</td>\n",
       "      <td>04/10/2019</td>\n",
       "      <td>W</td>\n",
       "      <td>240</td>\n",
       "      <td>122</td>\n",
       "      <td>48</td>\n",
       "      <td>88</td>\n",
       "      <td>54.5</td>\n",
       "      <td>11</td>\n",
       "      <td>...</td>\n",
       "      <td>20</td>\n",
       "      <td>75.0</td>\n",
       "      <td>9</td>\n",
       "      <td>30</td>\n",
       "      <td>39</td>\n",
       "      <td>24</td>\n",
       "      <td>5</td>\n",
       "      <td>2</td>\n",
       "      <td>6</td>\n",
       "      <td>19</td>\n",
       "    </tr>\n",
       "    <tr>\n",
       "      <td>3</td>\n",
       "      <td>CHA</td>\n",
       "      <td>CHA vs. ORL</td>\n",
       "      <td>04/10/2019</td>\n",
       "      <td>L</td>\n",
       "      <td>240</td>\n",
       "      <td>114</td>\n",
       "      <td>41</td>\n",
       "      <td>78</td>\n",
       "      <td>52.6</td>\n",
       "      <td>8</td>\n",
       "      <td>...</td>\n",
       "      <td>27</td>\n",
       "      <td>88.9</td>\n",
       "      <td>4</td>\n",
       "      <td>28</td>\n",
       "      <td>32</td>\n",
       "      <td>21</td>\n",
       "      <td>3</td>\n",
       "      <td>4</td>\n",
       "      <td>8</td>\n",
       "      <td>14</td>\n",
       "    </tr>\n",
       "    <tr>\n",
       "      <td>4</td>\n",
       "      <td>MIN</td>\n",
       "      <td>MIN @ DEN</td>\n",
       "      <td>04/10/2019</td>\n",
       "      <td>L</td>\n",
       "      <td>240</td>\n",
       "      <td>95</td>\n",
       "      <td>39</td>\n",
       "      <td>91</td>\n",
       "      <td>42.9</td>\n",
       "      <td>13</td>\n",
       "      <td>...</td>\n",
       "      <td>6</td>\n",
       "      <td>66.7</td>\n",
       "      <td>7</td>\n",
       "      <td>34</td>\n",
       "      <td>41</td>\n",
       "      <td>24</td>\n",
       "      <td>6</td>\n",
       "      <td>0</td>\n",
       "      <td>10</td>\n",
       "      <td>22</td>\n",
       "    </tr>\n",
       "    <tr>\n",
       "      <td>...</td>\n",
       "      <td>...</td>\n",
       "      <td>...</td>\n",
       "      <td>...</td>\n",
       "      <td>...</td>\n",
       "      <td>...</td>\n",
       "      <td>...</td>\n",
       "      <td>...</td>\n",
       "      <td>...</td>\n",
       "      <td>...</td>\n",
       "      <td>...</td>\n",
       "      <td>...</td>\n",
       "      <td>...</td>\n",
       "      <td>...</td>\n",
       "      <td>...</td>\n",
       "      <td>...</td>\n",
       "      <td>...</td>\n",
       "      <td>...</td>\n",
       "      <td>...</td>\n",
       "      <td>...</td>\n",
       "      <td>...</td>\n",
       "      <td>...</td>\n",
       "    </tr>\n",
       "    <tr>\n",
       "      <td>2455</td>\n",
       "      <td>SAS</td>\n",
       "      <td>SAS vs. MIN</td>\n",
       "      <td>10/17/2018</td>\n",
       "      <td>W</td>\n",
       "      <td>240</td>\n",
       "      <td>112</td>\n",
       "      <td>40</td>\n",
       "      <td>93</td>\n",
       "      <td>43.0</td>\n",
       "      <td>11</td>\n",
       "      <td>...</td>\n",
       "      <td>29</td>\n",
       "      <td>72.4</td>\n",
       "      <td>19</td>\n",
       "      <td>33</td>\n",
       "      <td>52</td>\n",
       "      <td>22</td>\n",
       "      <td>3</td>\n",
       "      <td>4</td>\n",
       "      <td>12</td>\n",
       "      <td>22</td>\n",
       "    </tr>\n",
       "    <tr>\n",
       "      <td>2456</td>\n",
       "      <td>PHI</td>\n",
       "      <td>PHI @ BOS</td>\n",
       "      <td>10/16/2018</td>\n",
       "      <td>L</td>\n",
       "      <td>240</td>\n",
       "      <td>87</td>\n",
       "      <td>34</td>\n",
       "      <td>87</td>\n",
       "      <td>39.1</td>\n",
       "      <td>5</td>\n",
       "      <td>...</td>\n",
       "      <td>23</td>\n",
       "      <td>60.9</td>\n",
       "      <td>6</td>\n",
       "      <td>41</td>\n",
       "      <td>47</td>\n",
       "      <td>18</td>\n",
       "      <td>8</td>\n",
       "      <td>5</td>\n",
       "      <td>16</td>\n",
       "      <td>20</td>\n",
       "    </tr>\n",
       "    <tr>\n",
       "      <td>2457</td>\n",
       "      <td>BOS</td>\n",
       "      <td>BOS vs. PHI</td>\n",
       "      <td>10/16/2018</td>\n",
       "      <td>W</td>\n",
       "      <td>240</td>\n",
       "      <td>105</td>\n",
       "      <td>42</td>\n",
       "      <td>97</td>\n",
       "      <td>43.3</td>\n",
       "      <td>11</td>\n",
       "      <td>...</td>\n",
       "      <td>14</td>\n",
       "      <td>71.4</td>\n",
       "      <td>12</td>\n",
       "      <td>43</td>\n",
       "      <td>55</td>\n",
       "      <td>21</td>\n",
       "      <td>7</td>\n",
       "      <td>5</td>\n",
       "      <td>15</td>\n",
       "      <td>20</td>\n",
       "    </tr>\n",
       "    <tr>\n",
       "      <td>2458</td>\n",
       "      <td>GSW</td>\n",
       "      <td>GSW vs. OKC</td>\n",
       "      <td>10/16/2018</td>\n",
       "      <td>W</td>\n",
       "      <td>240</td>\n",
       "      <td>108</td>\n",
       "      <td>42</td>\n",
       "      <td>95</td>\n",
       "      <td>44.2</td>\n",
       "      <td>7</td>\n",
       "      <td>...</td>\n",
       "      <td>18</td>\n",
       "      <td>94.4</td>\n",
       "      <td>17</td>\n",
       "      <td>41</td>\n",
       "      <td>58</td>\n",
       "      <td>28</td>\n",
       "      <td>7</td>\n",
       "      <td>7</td>\n",
       "      <td>21</td>\n",
       "      <td>29</td>\n",
       "    </tr>\n",
       "    <tr>\n",
       "      <td>2459</td>\n",
       "      <td>OKC</td>\n",
       "      <td>OKC @ GSW</td>\n",
       "      <td>10/16/2018</td>\n",
       "      <td>L</td>\n",
       "      <td>240</td>\n",
       "      <td>100</td>\n",
       "      <td>33</td>\n",
       "      <td>91</td>\n",
       "      <td>36.3</td>\n",
       "      <td>10</td>\n",
       "      <td>...</td>\n",
       "      <td>37</td>\n",
       "      <td>64.9</td>\n",
       "      <td>16</td>\n",
       "      <td>29</td>\n",
       "      <td>45</td>\n",
       "      <td>21</td>\n",
       "      <td>12</td>\n",
       "      <td>6</td>\n",
       "      <td>15</td>\n",
       "      <td>21</td>\n",
       "    </tr>\n",
       "  </tbody>\n",
       "</table>\n",
       "<p>2460 rows × 23 columns</p>\n",
       "</div>"
      ],
      "text/plain": [
       "     Team     Match Up   Game Date W/L  MIN  PTS  FGM  FGA   FG%  3PM  ...  \\\n",
       "0     GSW    GSW @ MEM  04/10/2019   L  240  117   46   92  50.0   13  ...   \n",
       "1     MEM  MEM vs. GSW  04/10/2019   W  240  132   48   98  49.0   21  ...   \n",
       "2     ORL    ORL @ CHA  04/10/2019   W  240  122   48   88  54.5   11  ...   \n",
       "3     CHA  CHA vs. ORL  04/10/2019   L  240  114   41   78  52.6    8  ...   \n",
       "4     MIN    MIN @ DEN  04/10/2019   L  240   95   39   91  42.9   13  ...   \n",
       "...   ...          ...         ...  ..  ...  ...  ...  ...   ...  ...  ...   \n",
       "2455  SAS  SAS vs. MIN  10/17/2018   W  240  112   40   93  43.0   11  ...   \n",
       "2456  PHI    PHI @ BOS  10/16/2018   L  240   87   34   87  39.1    5  ...   \n",
       "2457  BOS  BOS vs. PHI  10/16/2018   W  240  105   42   97  43.3   11  ...   \n",
       "2458  GSW  GSW vs. OKC  10/16/2018   W  240  108   42   95  44.2    7  ...   \n",
       "2459  OKC    OKC @ GSW  10/16/2018   L  240  100   33   91  36.3   10  ...   \n",
       "\n",
       "      FTA   FT%  OREB  DREB  REB  AST  STL  BLK  TOV  PF  \n",
       "0      14  85.7     9    30   39   32    3    5   14  17  \n",
       "1      18  83.3    15    34   49   25    9    0   11  18  \n",
       "2      20  75.0     9    30   39   24    5    2    6  19  \n",
       "3      27  88.9     4    28   32   21    3    4    8  14  \n",
       "4       6  66.7     7    34   41   24    6    0   10  22  \n",
       "...   ...   ...   ...   ...  ...  ...  ...  ...  ...  ..  \n",
       "2455   29  72.4    19    33   52   22    3    4   12  22  \n",
       "2456   23  60.9     6    41   47   18    8    5   16  20  \n",
       "2457   14  71.4    12    43   55   21    7    5   15  20  \n",
       "2458   18  94.4    17    41   58   28    7    7   21  29  \n",
       "2459   37  64.9    16    29   45   21   12    6   15  21  \n",
       "\n",
       "[2460 rows x 23 columns]"
      ]
     },
     "execution_count": 11,
     "metadata": {},
     "output_type": "execute_result"
    }
   ],
   "source": [
    "df"
   ]
  },
  {
   "cell_type": "markdown",
   "metadata": {},
   "source": [
    "Next, lets split our dataset into its features, X, and the label, y. Remember that our label is whether or not a team has won the game, this is in the 'W/L' column."
   ]
  },
  {
   "cell_type": "code",
   "execution_count": 16,
   "metadata": {},
   "outputs": [],
   "source": [
    "# X should equal all of columns that are not 'W/L'\n",
    "X = df.drop('W/L', axis=1)\n",
    "# Y should equal the 'W/L' column\n",
    "y = df['W/L']"
   ]
  },
  {
   "cell_type": "markdown",
   "metadata": {},
   "source": [
    "**Exploratory Data Analysis**"
   ]
  },
  {
   "cell_type": "markdown",
   "metadata": {},
   "source": [
    "This section will get us more familiar with our dataset, as well as help with feature selection later on. In the cell below, we have found the indices of wins and losses, respectively.\n",
    "\n",
    "Using these indices, we will compare the distribution of the same variables when a team wins versus when they lose."
   ]
  },
  {
   "cell_type": "code",
   "execution_count": 23,
   "metadata": {},
   "outputs": [],
   "source": [
    "wins = y[y==\"W\"].index\n",
    "losses = y[y==\"L\"].index"
   ]
  },
  {
   "cell_type": "markdown",
   "metadata": {},
   "source": [
    "Generate at least 3 sets of histograms, one set for each of the following columns in X: 'PTS', 'REB', and 'TOV'.  Each set should have two histograms, one filtered by when a team wins, and another filtered by when a team loses.\n",
    "\n",
    "Note: Your first plot will show up as blue, your second will be orange.\n",
    "\n",
    "Hint: Use .loc to select certain rows"
   ]
  },
  {
   "cell_type": "code",
   "execution_count": null,
   "metadata": {},
   "outputs": [],
   "source": []
  },
  {
   "cell_type": "code",
   "execution_count": 31,
   "metadata": {},
   "outputs": [
    {
     "data": {
      "text/plain": [
       "<matplotlib.axes._subplots.AxesSubplot at 0x1a24cf87d0>"
      ]
     },
     "execution_count": 31,
     "metadata": {},
     "output_type": "execute_result"
    },
    {
     "data": {
      "image/png": "[encoded data removed]",
      "text/plain": [
       "<Figure size 432x288 with 1 Axes>"
      ]
     },
     "metadata": {
      "needs_background": "light"
     },
     "output_type": "display_data"
    }
   ],
   "source": [
    "plt.xlabel(\"PTS\") # Fill this in with the name of column you are plotting on the x-axis\n",
    "plt.ylabel(\"Count\") # The y-axis of a histogram should always be count, unless you are making a density plot\n",
    "\n",
    "### Plot two histograms of your target column: one filtered by wins and one filtered by losses ###\n",
    "X['PTS'][wins].hist()  # Plot histogram of 'PTS' column with data filtered by wins\n",
    "X['PTS'][losses].hist()  # Plot histogram of 'PTS' column with data filtered by losses"
   ]
  },
  {
   "cell_type": "code",
   "execution_count": 32,
   "metadata": {},
   "outputs": [
    {
     "data": {
      "text/plain": [
       "Index(['Team', 'Match Up', 'Game Date', 'MIN', 'PTS', 'FGM', 'FGA', 'FG%',\n",
       "       '3PM', '3PA', '3P%', 'FTM', 'FTA', 'FT%', 'OREB', 'DREB', 'REB', 'AST',\n",
       "       'STL', 'BLK', 'TOV', 'PF'],\n",
       "      dtype='object')"
      ]
     },
     "execution_count": 32,
     "metadata": {},
     "output_type": "execute_result"
    }
   ],
   "source": [
    "X.columns"
   ]
  },
  {
   "cell_type": "code",
   "execution_count": 33,
   "metadata": {},
   "outputs": [
    {
     "data": {
      "text/plain": [
       "<matplotlib.axes._subplots.AxesSubplot at 0x1a24dd1210>"
      ]
     },
     "execution_count": 33,
     "metadata": {},
     "output_type": "execute_result"
    },
    {
     "data": {
      "image/png": "[encoded data removed]",
      "text/plain": [
       "<Figure size 432x288 with 1 Axes>"
      ]
     },
     "metadata": {
      "needs_background": "light"
     },
     "output_type": "display_data"
    }
   ],
   "source": [
    "plt.xlabel(\"REB\") # Fill this in with the name of column you are plotting on the x-axis\n",
    "plt.ylabel(\"Count\") # The y-axis of a histogram should always be count, unless you are making a density plot\n",
    "\n",
    "### Plot two histograms of your target column: one filtered by wins and one filtered by losses ###\n",
    "X['REB'][wins].hist()  # Plot histogram of 'REB' column with data filtered by wins\n",
    "X['REB'][losses].hist()  # Plot histogram of 'REB' column with data filtered by losses"
   ]
  },
  {
   "cell_type": "code",
   "execution_count": 35,
   "metadata": {},
   "outputs": [
    {
     "data": {
      "text/plain": [
       "<matplotlib.axes._subplots.AxesSubplot at 0x1a250fe610>"
      ]
     },
     "execution_count": 35,
     "metadata": {},
     "output_type": "execute_result"
    },
    {
     "data": {
      "image/png": "[encoded data removed]",
      "text/plain": [
       "<Figure size 432x288 with 1 Axes>"
      ]
     },
     "metadata": {
      "needs_background": "light"
     },
     "output_type": "display_data"
    }
   ],
   "source": [
    "plt.xlabel(\"TOV\") # Fill this in with the name of column you are plotting on the x-axis\n",
    "plt.ylabel(\"Count\") # The y-axis of a histogram should always be count, unless you are making a density plot\n",
    "\n",
    "### Plot two histograms of your target column: one filtered by wins and one filtered by losses ###\n",
    "X['TOV'][wins].hist()  # Plot histogram of 'TOV' column with data filtered by wins\n"
   ]
  },
  {
   "cell_type": "code",
   "execution_count": 36,
   "metadata": {},
   "outputs": [
    {
     "data": {
      "text/plain": [
       "<matplotlib.axes._subplots.AxesSubplot at 0x1a2523fbd0>"
      ]
     },
     "execution_count": 36,
     "metadata": {},
     "output_type": "execute_result"
    },
    {
     "data": {
      "image/png": "[encoded data removed]",
      "text/plain": [
       "<Figure size 432x288 with 1 Axes>"
      ]
     },
     "metadata": {
      "needs_background": "light"
     },
     "output_type": "display_data"
    }
   ],
   "source": [
    "X['TOV'][losses].hist()  # Plot histogram of 'TOV' column with data filtered by losses"
   ]
  },
  {
   "cell_type": "markdown",
   "metadata": {},
   "source": [
    "Note that the distribution of 'TOV' is more even than the other two.  Lets look at the summary statistics for the 'TOV' column to find any difference in the distributions.\n",
    "\n",
    "Hint: Use .describe() to generate summary statistics for a column."
   ]
  },
  {
   "cell_type": "code",
   "execution_count": 38,
   "metadata": {},
   "outputs": [
    {
     "data": {
      "text/plain": [
       "count    1230.000000\n",
       "mean       13.716260\n",
       "std         3.786617\n",
       "min         4.000000\n",
       "25%        11.000000\n",
       "50%        14.000000\n",
       "75%        16.000000\n",
       "max        25.000000\n",
       "Name: TOV, dtype: float64"
      ]
     },
     "execution_count": 38,
     "metadata": {},
     "output_type": "execute_result"
    }
   ],
   "source": [
    "X['TOV'][wins].describe()  # Apply .describe on the 'TOV' column filtered by wins"
   ]
  },
  {
   "cell_type": "code",
   "execution_count": 39,
   "metadata": {},
   "outputs": [
    {
     "data": {
      "text/plain": [
       "count    1230.000000\n",
       "mean       14.449593\n",
       "std         4.031041\n",
       "min         3.000000\n",
       "25%        12.000000\n",
       "50%        14.000000\n",
       "75%        17.000000\n",
       "max        29.000000\n",
       "Name: TOV, dtype: float64"
      ]
     },
     "execution_count": 39,
     "metadata": {},
     "output_type": "execute_result"
    }
   ],
   "source": [
    "X['TOV'][losses].describe()  # Apply .describe on the 'TOV' column filtered by losses"
   ]
  },
  {
   "cell_type": "markdown",
   "metadata": {},
   "source": [
    "**Feature Extraction and Engineering**"
   ]
  },
  {
   "cell_type": "markdown",
   "metadata": {},
   "source": [
    "Now that we have some sense of what our data looks like and how distribution of columns differ when a team wins versus when they lose, lets try and select the most important features to predict whether or not a team will win.  Additionally, we can create derived features by forming combinations of our columns as we see fit, or turning categorical variables into vectors.\n",
    "\n",
    "This part is pretty open-ended, but I do have some tips.  Check out the ['Four Factors of Basketball Success'](https://www.basketball-reference.com/about/factors.html) by Dean Oliver.  He gives weights to the four most important factors that lead to a team winning.  Our model will create weights for us, but the features outlined in his four factors can be derived from our dataset.\n",
    "\n",
    "As a baseline model, try to input all quantitative columns into a kNN classifier and see what accuracy you are able to get.  Once you apply a model to all quantitative columns, come back to this part and see if you can improve your accuracy.  Machine Learning projects are an iterative process, meaning you should start with a baseline model and work your way up.\n",
    "\n",
    "Recommendation: Try to standardize all your columns and see if that improves accuracy over non-standardization."
   ]
  },
  {
   "cell_type": "markdown",
   "metadata": {},
   "source": [
    "Finding Quantitative Columns:\n",
    "\n",
    "The cell below provides skeleton code for finding all quantitative columns.\n",
    "\n",
    "Hint: Use .dtype to find the datatype of a given column"
   ]
  },
  {
   "cell_type": "code",
   "execution_count": 41,
   "metadata": {},
   "outputs": [],
   "source": [
    "quant_cols = []\n",
    "for col in X.columns:\n",
    "    if X[col].dtype == 'int' or X[col].dtype == 'float':\n",
    "        quant_cols.append(col)"
   ]
  },
  {
   "cell_type": "markdown",
   "metadata": {},
   "source": [
    "**Optional**\n",
    "\n",
    "In the cell below, I will provide skeleton code for deriving a feature from our dataset.  In this example, we will be able to find whether a team is playing at Home or not based on the 'Match Up' column.  There are two types of outputs for this column: Case 1 -- 'Team_1 vs. Team_2' or Case 2 -- 'Team_1 @ Team_2'.  In Case 1, Team_1 is at home, whereas in Case 2, Team_1 is away.  \n",
    "\n",
    "We will utilize One Hot Encoding to separate 'Home' and 'Away' into two separate columns.\n",
    "\n",
    "Hint: Create a function to encode 'vs.' and '@' as 'Home' and 'Away' respectively for each row, then use df[column].apply(func) to apply your function to your Series.\n",
    "\n",
    "Hint: Use .split() to help isolate the 'vs.' and '@' characters.\n",
    "\n",
    "Hint: Use pd.get_dummies(df[column]) to One Hot Encode a given column."
   ]
  },
  {
   "cell_type": "code",
   "execution_count": 45,
   "metadata": {},
   "outputs": [
    {
     "data": {
      "text/plain": [
       "0         GSW @ MEM\n",
       "1       MEM vs. GSW\n",
       "2         ORL @ CHA\n",
       "3       CHA vs. ORL\n",
       "4         MIN @ DEN\n",
       "           ...     \n",
       "2455    SAS vs. MIN\n",
       "2456      PHI @ BOS\n",
       "2457    BOS vs. PHI\n",
       "2458    GSW vs. OKC\n",
       "2459      OKC @ GSW\n",
       "Name: Match Up, Length: 2460, dtype: object"
      ]
     },
     "execution_count": 45,
     "metadata": {},
     "output_type": "execute_result"
    }
   ],
   "source": [
    "X['Match Up']"
   ]
  },
  {
   "cell_type": "code",
   "execution_count": 46,
   "metadata": {},
   "outputs": [],
   "source": [
    "def find_home_away(row):\n",
    "    ### Insert code here: function should return either 'Home' or 'Away'\n",
    "    if 'vs.' in row:  # if we find 'vs.'\n",
    "        return 'Home'\n",
    "    if '@' in row:  # if we find '@'\n",
    "        return 'Away'"
   ]
  },
  {
   "cell_type": "code",
   "execution_count": 53,
   "metadata": {},
   "outputs": [],
   "source": [
    "home_away = X['Match Up'].apply(find_home_away) # Return a series of values that are either 'Home' or 'Away'. Use .apply"
   ]
  },
  {
   "cell_type": "code",
   "execution_count": 54,
   "metadata": {},
   "outputs": [
    {
     "data": {
      "text/plain": [
       "0    Away\n",
       "1    Home\n",
       "2    Away\n",
       "3    Home\n",
       "4    Away\n",
       "Name: Match Up, dtype: object"
      ]
     },
     "execution_count": 54,
     "metadata": {},
     "output_type": "execute_result"
    }
   ],
   "source": [
    "home_away.head()"
   ]
  },
  {
   "cell_type": "code",
   "execution_count": 55,
   "metadata": {},
   "outputs": [
    {
     "data": {
      "text/plain": [
       "0      GSW @ MEM\n",
       "1    MEM vs. GSW\n",
       "2      ORL @ CHA\n",
       "3    CHA vs. ORL\n",
       "4      MIN @ DEN\n",
       "Name: Match Up, dtype: object"
      ]
     },
     "execution_count": 55,
     "metadata": {},
     "output_type": "execute_result"
    }
   ],
   "source": [
    "X['Match Up'].head()"
   ]
  },
  {
   "cell_type": "markdown",
   "metadata": {},
   "source": [
    "This cell has skeleton code for performing Logistic Regression on each quantitative variable and y. Use accuracy as a metric for determing which columns are most predictive towards success.  Feel free to use this once creating any derived features to check their effectiveness."
   ]
  },
  {
   "cell_type": "code",
   "execution_count": 56,
   "metadata": {},
   "outputs": [],
   "source": [
    "X_feat = X[quant_cols] # Feature dataframe containing all the column we want to use so far\n"
   ]
  },
  {
   "cell_type": "code",
   "execution_count": null,
   "metadata": {},
   "outputs": [],
   "source": []
  },
  {
   "cell_type": "code",
   "execution_count": 62,
   "metadata": {},
   "outputs": [
    {
     "name": "stderr",
     "output_type": "stream",
     "text": [
      "/Users/jordanlevy/Documents/anaconda3/lib/python3.7/site-packages/pandas/core/frame.py:3494: SettingWithCopyWarning: \n",
      "A value is trying to be set on a copy of a slice from a DataFrame.\n",
      "Try using .loc[row_indexer,col_indexer] = value instead\n",
      "\n",
      "See the caveats in the documentation: http://pandas.pydata.org/pandas-docs/stable/user_guide/indexing.html#returning-a-view-versus-a-copy\n",
      "  self[k1] = value[k2]\n"
     ]
    }
   ],
   "source": [
    "#### Uncomment the line below if you created 'home_away' from above ###\n",
    "X_feat[['Away', 'Home']] = pd.get_dummies(home_away) # use pd.get_dummies to get these values"
   ]
  },
  {
   "cell_type": "code",
   "execution_count": null,
   "metadata": {},
   "outputs": [],
   "source": []
  },
  {
   "cell_type": "code",
   "execution_count": 70,
   "metadata": {},
   "outputs": [
    {
     "name": "stdout",
     "output_type": "stream",
     "text": [
      "MIN:\n",
      "Total Accuracy: 0.5\n",
      "\n",
      "PTS:\n",
      "Total Accuracy: 0.7109756097560975\n",
      "\n",
      "FGM:\n",
      "Total Accuracy: 0.6585365853658537\n",
      "\n",
      "FGA:\n",
      "Total Accuracy: 0.5008130081300813\n",
      "\n",
      "FG%:\n",
      "Total Accuracy: 0.6764227642276422\n",
      "\n",
      "3PM:\n",
      "Total Accuracy: 0.6117886178861789\n",
      "\n",
      "3PA:\n",
      "Total Accuracy: 0.5101626016260162\n",
      "\n",
      "3P%:\n",
      "Total Accuracy: 0.6402439024390244\n",
      "\n",
      "FTM:\n",
      "Total Accuracy: 0.5601626016260163\n",
      "\n",
      "FTA:\n",
      "Total Accuracy: 0.5422764227642276\n",
      "\n",
      "FT%:\n",
      "Total Accuracy: 0.5369918699186992\n",
      "\n",
      "OREB:\n",
      "Total Accuracy: 0.5223577235772358\n",
      "\n",
      "DREB:\n",
      "Total Accuracy: 0.6556910569105691\n",
      "\n",
      "REB:\n",
      "Total Accuracy: 0.624390243902439\n",
      "\n",
      "AST:\n",
      "Total Accuracy: 0.6296747967479674\n",
      "\n",
      "STL:\n",
      "Total Accuracy: 0.5495934959349593\n",
      "\n",
      "BLK:\n",
      "Total Accuracy: 0.556910569105691\n",
      "\n",
      "TOV:\n",
      "Total Accuracy: 0.5353658536585366\n",
      "\n",
      "PF:\n",
      "Total Accuracy: 0.5341463414634147\n",
      "\n",
      "Away:\n",
      "Total Accuracy: 0.5926829268292683\n",
      "\n",
      "Home:\n",
      "Total Accuracy: 0.5926829268292683\n",
      "\n"
     ]
    },
    {
     "name": "stderr",
     "output_type": "stream",
     "text": [
      "/Users/jordanlevy/Documents/anaconda3/lib/python3.7/site-packages/sklearn/linear_model/logistic.py:432: FutureWarning: Default solver will be changed to 'lbfgs' in 0.22. Specify a solver to silence this warning.\n",
      "  FutureWarning)\n",
      "/Users/jordanlevy/Documents/anaconda3/lib/python3.7/site-packages/sklearn/linear_model/logistic.py:432: FutureWarning: Default solver will be changed to 'lbfgs' in 0.22. Specify a solver to silence this warning.\n",
      "  FutureWarning)\n",
      "/Users/jordanlevy/Documents/anaconda3/lib/python3.7/site-packages/sklearn/linear_model/logistic.py:432: FutureWarning: Default solver will be changed to 'lbfgs' in 0.22. Specify a solver to silence this warning.\n",
      "  FutureWarning)\n",
      "/Users/jordanlevy/Documents/anaconda3/lib/python3.7/site-packages/sklearn/linear_model/logistic.py:432: FutureWarning: Default solver will be changed to 'lbfgs' in 0.22. Specify a solver to silence this warning.\n",
      "  FutureWarning)\n",
      "/Users/jordanlevy/Documents/anaconda3/lib/python3.7/site-packages/sklearn/linear_model/logistic.py:432: FutureWarning: Default solver will be changed to 'lbfgs' in 0.22. Specify a solver to silence this warning.\n",
      "  FutureWarning)\n",
      "/Users/jordanlevy/Documents/anaconda3/lib/python3.7/site-packages/sklearn/linear_model/logistic.py:432: FutureWarning: Default solver will be changed to 'lbfgs' in 0.22. Specify a solver to silence this warning.\n",
      "  FutureWarning)\n",
      "/Users/jordanlevy/Documents/anaconda3/lib/python3.7/site-packages/sklearn/linear_model/logistic.py:432: FutureWarning: Default solver will be changed to 'lbfgs' in 0.22. Specify a solver to silence this warning.\n",
      "  FutureWarning)\n",
      "/Users/jordanlevy/Documents/anaconda3/lib/python3.7/site-packages/sklearn/linear_model/logistic.py:432: FutureWarning: Default solver will be changed to 'lbfgs' in 0.22. Specify a solver to silence this warning.\n",
      "  FutureWarning)\n",
      "/Users/jordanlevy/Documents/anaconda3/lib/python3.7/site-packages/sklearn/linear_model/logistic.py:432: FutureWarning: Default solver will be changed to 'lbfgs' in 0.22. Specify a solver to silence this warning.\n",
      "  FutureWarning)\n",
      "/Users/jordanlevy/Documents/anaconda3/lib/python3.7/site-packages/sklearn/linear_model/logistic.py:432: FutureWarning: Default solver will be changed to 'lbfgs' in 0.22. Specify a solver to silence this warning.\n",
      "  FutureWarning)\n",
      "/Users/jordanlevy/Documents/anaconda3/lib/python3.7/site-packages/sklearn/linear_model/logistic.py:432: FutureWarning: Default solver will be changed to 'lbfgs' in 0.22. Specify a solver to silence this warning.\n",
      "  FutureWarning)\n",
      "/Users/jordanlevy/Documents/anaconda3/lib/python3.7/site-packages/sklearn/linear_model/logistic.py:432: FutureWarning: Default solver will be changed to 'lbfgs' in 0.22. Specify a solver to silence this warning.\n",
      "  FutureWarning)\n",
      "/Users/jordanlevy/Documents/anaconda3/lib/python3.7/site-packages/sklearn/linear_model/logistic.py:432: FutureWarning: Default solver will be changed to 'lbfgs' in 0.22. Specify a solver to silence this warning.\n",
      "  FutureWarning)\n",
      "/Users/jordanlevy/Documents/anaconda3/lib/python3.7/site-packages/sklearn/linear_model/logistic.py:432: FutureWarning: Default solver will be changed to 'lbfgs' in 0.22. Specify a solver to silence this warning.\n",
      "  FutureWarning)\n",
      "/Users/jordanlevy/Documents/anaconda3/lib/python3.7/site-packages/sklearn/linear_model/logistic.py:432: FutureWarning: Default solver will be changed to 'lbfgs' in 0.22. Specify a solver to silence this warning.\n",
      "  FutureWarning)\n",
      "/Users/jordanlevy/Documents/anaconda3/lib/python3.7/site-packages/sklearn/linear_model/logistic.py:432: FutureWarning: Default solver will be changed to 'lbfgs' in 0.22. Specify a solver to silence this warning.\n",
      "  FutureWarning)\n",
      "/Users/jordanlevy/Documents/anaconda3/lib/python3.7/site-packages/sklearn/linear_model/logistic.py:432: FutureWarning: Default solver will be changed to 'lbfgs' in 0.22. Specify a solver to silence this warning.\n",
      "  FutureWarning)\n",
      "/Users/jordanlevy/Documents/anaconda3/lib/python3.7/site-packages/sklearn/linear_model/logistic.py:432: FutureWarning: Default solver will be changed to 'lbfgs' in 0.22. Specify a solver to silence this warning.\n",
      "  FutureWarning)\n",
      "/Users/jordanlevy/Documents/anaconda3/lib/python3.7/site-packages/sklearn/linear_model/logistic.py:432: FutureWarning: Default solver will be changed to 'lbfgs' in 0.22. Specify a solver to silence this warning.\n",
      "  FutureWarning)\n",
      "/Users/jordanlevy/Documents/anaconda3/lib/python3.7/site-packages/sklearn/linear_model/logistic.py:432: FutureWarning: Default solver will be changed to 'lbfgs' in 0.22. Specify a solver to silence this warning.\n",
      "  FutureWarning)\n",
      "/Users/jordanlevy/Documents/anaconda3/lib/python3.7/site-packages/sklearn/linear_model/logistic.py:432: FutureWarning: Default solver will be changed to 'lbfgs' in 0.22. Specify a solver to silence this warning.\n",
      "  FutureWarning)\n"
     ]
    }
   ],
   "source": [
    "model = LogisticRegression()  # Initiate a classification model, for example KNN, Logistic Regression, SVC, etc.\n",
    "             # refer to sklearn documntation for this...\n",
    "for col in X_feat:\n",
    "    model.fit(X_feat[[col]], y)  # Fit your newly initiated model to the column at X_feat and y\n",
    "    pred = model.predict(X_feat[[col]])  # Generate predictions based on the column at X_feat\n",
    "    print(\"{}:\".format(col))\n",
    "    print(\"Total Accuracy:\",sum(pred == y) / len(y))\n",
    "    print()"
   ]
  },
  {
   "cell_type": "code",
   "execution_count": null,
   "metadata": {},
   "outputs": [],
   "source": [
    "### Add any additional feature engineering code here ###"
   ]
  },
  {
   "cell_type": "code",
   "execution_count": null,
   "metadata": {},
   "outputs": [],
   "source": []
  },
  {
   "cell_type": "code",
   "execution_count": null,
   "metadata": {},
   "outputs": [],
   "source": []
  },
  {
   "cell_type": "code",
   "execution_count": null,
   "metadata": {},
   "outputs": [],
   "source": []
  },
  {
   "cell_type": "markdown",
   "metadata": {},
   "source": [
    "**Model Selection and Performance**"
   ]
  },
  {
   "cell_type": "markdown",
   "metadata": {},
   "source": [
    "Once you have extracted all the features you wish to use in your Machine Learning model, it is time to select a model and test it's accuracy on unseen data.  Because we don't actually have unseen data, we will create a sample of our total dataset where we hold-out the labels.\n",
    "\n",
    "Using sklearn's train_test_split, create a testing and training set with 33% of our data going towards our test set.  Refer to sklearn [documentation](https://scikit-learn.org/stable/modules/generated/sklearn.model_selection.train_test_split.html) to implement this."
   ]
  },
  {
   "cell_type": "code",
   "execution_count": 78,
   "metadata": {},
   "outputs": [],
   "source": [
    "## Create X_train, X_test, y_train, and y_test with 33% of our total data in our test set\n",
    "X_train, X_test, y_train, y_test = train_test_split(X_feat, y, test_size=0.33) # Use train_test_split from sklearn to create X_train, X_test, y_train, and y_test"
   ]
  },
  {
   "cell_type": "markdown",
   "metadata": {},
   "source": [
    "Once we have our training and testing datasets, we can initialize our classifier, fit to our training data, and make predictions on our testing data.  Pick whichever classifier you want, I have imported kNN, Logistic Regression, and SVM from sklearn.  You can find more classifiers on sklearn's website and import as you wish.\n",
    "\n",
    "Hint: Use .fit() and .predict() after initializing the classifer"
   ]
  },
  {
   "cell_type": "code",
   "execution_count": 83,
   "metadata": {},
   "outputs": [
    {
     "name": "stderr",
     "output_type": "stream",
     "text": [
      "/Users/jordanlevy/Documents/anaconda3/lib/python3.7/site-packages/sklearn/linear_model/logistic.py:432: FutureWarning: Default solver will be changed to 'lbfgs' in 0.22. Specify a solver to silence this warning.\n",
      "  FutureWarning)\n"
     ]
    }
   ],
   "source": [
    "classifier = KNeighborClassifier(n_neighbor=5) # Initialize a classifier here\n",
    "## Fit and predict using X_train, y_train, and X_test\n",
    "classifier.fit(X_train, y_train) # Fit classifier to your X_train and y_train\n",
    "pred = classifier.predict(X_test)  # Generate predictions based on X_test"
   ]
  },
  {
   "cell_type": "markdown",
   "metadata": {},
   "source": [
    "The baseline accuracy (using KNeighborsClassifier with k=5) was 0.73522. See if you can beat this!"
   ]
  },
  {
   "cell_type": "code",
   "execution_count": 84,
   "metadata": {},
   "outputs": [
    {
     "data": {
      "text/plain": [
       "0.8362068965517241"
      ]
     },
     "execution_count": 84,
     "metadata": {},
     "output_type": "execute_result"
    }
   ],
   "source": [
    "sum(pred == y_test) / len(pred)  # Outputs the accuracy of your predictions"
   ]
  },
  {
   "cell_type": "code",
   "execution_count": null,
   "metadata": {},
   "outputs": [],
   "source": []
  },
  {
   "cell_type": "code",
   "execution_count": null,
   "metadata": {},
   "outputs": [],
   "source": []
  },
  {
   "cell_type": "markdown",
   "metadata": {},
   "source": [
    "**Hyperparameter Tuning**"
   ]
  },
  {
   "cell_type": "markdown",
   "metadata": {},
   "source": [
    "Now that we have generated predictions and an accuracy from the model, change hyperparameters to improve model perfomance.  This may be changing the value of k for KNearestNeighbors, C for LogisticRegression and SVM, and others depending on your model.\n",
    "\n",
    "You could loop through existing hyperparameters and output the score for each one to find the optimal hyperparameter value."
   ]
  },
  {
   "cell_type": "code",
   "execution_count": null,
   "metadata": {},
   "outputs": [],
   "source": [
    "### Your code here: Hyperparameter Tuning ###"
   ]
  },
  {
   "cell_type": "code",
   "execution_count": null,
   "metadata": {},
   "outputs": [],
   "source": []
  },
  {
   "cell_type": "markdown",
   "metadata": {},
   "source": [
    "**Conclusion**\n",
    "\n",
    "As you will see, it is fairly easy to get a score above 0.70 regardless of how much feature engineering we do or which classifier we choose.  However, we are sort of cheating in a sense, becuase we are using data from that game to predict the results of that game.\n",
    "\n",
    "An interesting extension of this problem would be to predict who will win a game WITHOUT having any statistics present from that game.  One way to approach this problem would be to find average statistics of the team's last 5 or so games, and use that to predict their performance in the current game.\n",
    "\n",
    "Additionally, we could find outside datasets, such as a dataset of Vegas odds for the game see who is favored to win.  The possibilities are endless as far as what features you could engineer to make more accurate predictions, as long as you have quality data and an open mind."
   ]
  }
 ],
 "metadata": {
  "kernelspec": {
   "display_name": "Python 3",
   "language": "python",
   "name": "python3"
  },
  "language_info": {
   "codemirror_mode": {
    "name": "ipython",
    "version": 3
   },
   "file_extension": ".py",
   "mimetype": "text/x-python",
   "name": "python",
   "nbconvert_exporter": "python",
   "pygments_lexer": "ipython3",
   "version": "3.7.4"
  }
 },
 "nbformat": 4,
 "nbformat_minor": 2
}
